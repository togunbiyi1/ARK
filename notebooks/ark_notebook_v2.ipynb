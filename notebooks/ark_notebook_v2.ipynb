{
 "cells": [
  {
   "cell_type": "markdown",
   "metadata": {},
   "source": [
    "## ARK"
   ]
  },
  {
   "cell_type": "code",
   "execution_count": 1,
   "metadata": {},
   "outputs": [],
   "source": [
    "__author__ = 'Olatunji Ogunbiyi'\n",
    "__version__ = \"2.0\"\n",
    "__license__ = \"MIT\""
   ]
  },
  {
   "cell_type": "markdown",
   "metadata": {},
   "source": [
    "## Imports"
   ]
  },
  {
   "cell_type": "code",
   "execution_count": 2,
   "metadata": {},
   "outputs": [],
   "source": [
    "import os, sys\n",
    "import pandas as pd\n",
    "import numpy as np\n",
    "from sklearn.preprocessing import MultiLabelBinarizer\n",
    "from sklearn.metrics.pairwise import cosine_similarity\n",
    "import scipy.sparse\n",
    "pd.set_option('display.max_columns', None)"
   ]
  },
  {
   "cell_type": "code",
   "execution_count": 3,
   "metadata": {},
   "outputs": [],
   "source": [
    "class DataManager:\n",
    "    \n",
    "    def __init__(self,responses_filename):\n",
    "        self.response_df = pd.read_csv(responses_filename)\n",
    "        self.response_df.set_index('Bio: Name',inplace=True)\n",
    "        del self.response_df.index.name\n",
    "        timestamps = self.response_df['Timestamp']\n",
    "        self.response_df.drop(columns=['Timestamp'],inplace=True)\n",
    "        \n",
    "    def sort_responses(self, df):\n",
    "        bio_questions = []\n",
    "        pref_questions = []\n",
    "        int_questions = []\n",
    "        hab_questions = []\n",
    "        pers_questions = []\n",
    "        flat_questions = []\n",
    "        extra_questions = []\n",
    "\n",
    "        for column in df.columns:\n",
    "            if \"Bio\" in column:\n",
    "                bio_questions.append(column)\n",
    "            elif \"Preferences\" in column:\n",
    "                pref_questions.append(column)\n",
    "            elif \"Interests\" in column:\n",
    "                int_questions.append(column)\n",
    "            elif \"Habits\" in column:\n",
    "                hab_questions.append(column)\n",
    "            elif \"Personality\" in column:\n",
    "                pers_questions.append(column)\n",
    "            elif \"Flat\" in column:\n",
    "                flat_questions.append(column)\n",
    "            elif \"Extra\" in column:\n",
    "                extra_questions.append(column)\n",
    "            else:\n",
    "                print(column)\n",
    "\n",
    "        bio_df = df[bio_questions]\n",
    "        pref_df = df[pref_questions]\n",
    "        int_df = df[int_questions]\n",
    "        habit_df = df[hab_questions]\n",
    "        pers_df = df[pers_questions]\n",
    "        flat_df = df[flat_questions]\n",
    "        extra_df = df[extra_questions]\n",
    "\n",
    "        return bio_df, pref_df, int_df, habit_df, pers_df, flat_df, extra_df\n",
    "    \n",
    "    def bio_score(self, bio_df):\n",
    "        \n",
    "        bio_filters_df = bio_df[['Bio: Gender', \n",
    "                         'Bio: Age', \n",
    "                         'Bio: Sexuality', \n",
    "                         'Bio: Birthplace',\n",
    "                         'Bio: Diet', \n",
    "                         'Bio: Ethnicity',\n",
    "                         'Bio: Political views', \n",
    "                         'Bio: Highest level of education',\n",
    "                         'Bio: Employment status']]\n",
    "\n",
    "        bio_score_df = bio_df[['Bio: How often do you drink?', \n",
    "                       'Bio: How often do you smoke?',\n",
    "                       'Bio: Do you smoke/take weed?',\n",
    "                       'Bio: How often do you partake in any other recreational substances?']]\n",
    "        \n",
    "        bio_score_cos_matrix = pd.DataFrame(cosine_similarity(bio_score_df),\n",
    "             index=bio_score_df.index,\n",
    "             columns=bio_score_df.index)\n",
    "        \n",
    "        return bio_score_cos_matrix, bio_filters_df\n",
    "    \n",
    "    def pref_score(self, pref_df, bio_filters_df):\n",
    "        \n",
    "        pref_df[\"dummy\"] = 0\n",
    "        pref_df = pref_df.reset_index().rename(columns={\"index\":\"pref_name\"})\n",
    "        bio_filters_df[\"dummy\"] = 0\n",
    "        bio_filters_df = bio_filters_df.reset_index().rename(columns={\"index\":\"bio_name\"})\n",
    "        \n",
    "        merged_df = pd.merge(pref_df,bio_filters_df,on=\"dummy\",how=\"outer\")\n",
    "        merged_df[\"Preferences: Minimum age of flatmate\"] = merged_df[\"Preferences: Minimum age of flatmate\"].fillna(0)\n",
    "        merged_df[\"Preferences: Maximum age of flatmate\"] = merged_df[\"Preferences: Maximum age of flatmate\"].fillna(100)\n",
    "        \n",
    "        merged_df = merged_df[merged_df[\"pref_name\"] != merged_df[\"bio_name\"]]\n",
    "        merged_df[\"match\"] = 0\n",
    "        \n",
    "        def pref_filter(row):\n",
    "            if row[\"Bio: Age\"] >= row[\"Preferences: Minimum age of flatmate\"] and\\\n",
    "            row[\"Bio: Age\"] <= row[\"Preferences: Maximum age of flatmate\"]:\n",
    "                if row[\"Preferences: Sex of flatmate\"] == \"Open to all\":\n",
    "                    return 1\n",
    "                elif row[\"Bio: Gender\"] in row[\"Preferences: Sex of flatmate\"]:\n",
    "                    return 1\n",
    "                else:\n",
    "                    return 0\n",
    "            else:\n",
    "                return 0\n",
    "        \n",
    "        merged_df[\"match\"] = merged_df.apply(lambda row: pref_filter(row), axis=1)\n",
    "        merged_df = merged_df[[\"pref_name\",\"bio_name\",\"match\"]]\n",
    "        \n",
    "        merged_df_double = pd.merge(merged_df,\n",
    "                            merged_df,\n",
    "                            left_on=[\"pref_name\",\"bio_name\"],\n",
    "                            right_on=[\"bio_name\",\"pref_name\"],\n",
    "                            how=\"inner\")\n",
    "        \n",
    "        merged_df_double = merged_df_double[merged_df_double[\"pref_name_x\"] != merged_df_double[\"bio_name_x\"]]\n",
    "        \n",
    "        merged_df_double = merged_df_double[(merged_df_double[\"match_x\"]==1)&(merged_df_double[\"match_y\"]==1)]\n",
    "        merged_df_double = merged_df_double[[\"pref_name_x\",\"pref_name_y\"]]\n",
    "        \n",
    "        pref_matrix = merged_df_double[[\"pref_name_x\",\"pref_name_y\"]]\n",
    "        \n",
    "        return pref_matrix\n",
    "    \n",
    "    def int_score(self, int_df):\n",
    "        \n",
    "        interest_score_cos_matrix = pd.DataFrame(cosine_similarity(int_df),\n",
    "                                      index=int_df.index,\n",
    "                                      columns=int_df.index)\n",
    "        \n",
    "        return interest_score_cos_matrix\n",
    "    \n",
    "    def habit_score(self, habit_df):\n",
    "        \n",
    "        # One hot encodes string variables\n",
    "\n",
    "        # groups columns by dtype and puts in dict\n",
    "        habit_df_dtype_dict = habit_df.columns.to_series().groupby(habit_df.dtypes).groups\n",
    "\n",
    "        # selects list of text columns\n",
    "        habit_df_text_columns = list(habit_df_dtype_dict[np.dtype('O')])\n",
    "\n",
    "        # creates df from one hot encoded text columns\n",
    "        habit_object_df = pd.get_dummies(habit_df[habit_df_text_columns])\n",
    "\n",
    "        # drops old text columns\n",
    "        habit_df.drop(columns=habit_df_text_columns,inplace=True)\n",
    "\n",
    "        # concats new one hot encoded columns\n",
    "        habit_df = pd.concat([habit_df,habit_object_df],axis=1)\n",
    "    \n",
    "        habit_score_cos_matrix = pd.DataFrame(cosine_similarity(habit_df),\n",
    "                                          index=habit_df.index,\n",
    "                                          columns=habit_df.index)\n",
    "        \n",
    "        return habit_score_cos_matrix\n",
    "    \n",
    "    def pers_score(self, pers_df):\n",
    "        \n",
    "        personality_score_cos_matrix = pd.DataFrame(cosine_similarity(pers_df),\n",
    "             index=pers_df.index,\n",
    "             columns=pers_df.index)\n",
    "        \n",
    "        return personality_score_cos_matrix\n",
    "\n",
    "    def flat_score(self, flat_df):\n",
    "\n",
    "        flat_df[\"Flat: Where are you looking to live in London? (Tick all that apply)\"] = \\\n",
    "        flat_df[\"Flat: Where are you looking to live in London? (Tick all that apply)\"]\\\n",
    "        .str.split(',')\n",
    "\n",
    "        flat_df[\"Flat: What price range are you looking for? Tick all that apply\"] = \\\n",
    "        flat_df[\"Flat: What price range are you looking for? Tick all that apply\"]\\\n",
    "        .str.split(',')\n",
    "        \n",
    "        flat_df[\"Flat: Where are you looking to live in London? (Tick all that apply)\"] = \\\n",
    "        flat_df[\"Flat: Where are you looking to live in London? (Tick all that apply)\"].\\\n",
    "        apply(lambda x: [zone.lstrip(' ') for zone in x])\n",
    "        \n",
    "        flat_df[\"Flat: What price range are you looking for? Tick all that apply\"] = \\\n",
    "        flat_df[\"Flat: What price range are you looking for? Tick all that apply\"].\\\n",
    "        apply(lambda x: [price_range.lstrip(' ') for price_range in x])\n",
    "        \n",
    "        def one_hot_encode_list(df,column_name):\n",
    "            mlb = MultiLabelBinarizer()\n",
    "            df = df.join(pd.DataFrame(mlb.fit_transform(df.pop(column_name)),\n",
    "                                  columns=mlb.classes_,\n",
    "                                  index=df.index))\n",
    "            return df\n",
    "        \n",
    "        flat_df = one_hot_encode_list(flat_df,\n",
    "                              \"Flat: Where are you looking to live in London? (Tick all that apply)\")\n",
    "\n",
    "        flat_df = one_hot_encode_list(flat_df,\n",
    "                              \"Flat: What price range are you looking for? Tick all that apply\")\n",
    "        \n",
    "        flat_df.columns = [column.strip() for column in flat_df.columns]\n",
    "        \n",
    "        return flat_df\n",
    "        \n",
    "    def run_data_manager(self):\n",
    "        \n",
    "        bio_df, pref_df, int_df, habit_df, pers_df, flat_df, extra_df = self.sort_responses(self.response_df)\n",
    "        \n",
    "        bio_score_cos_matrix, bio_filters_df = self.bio_score(bio_df)\n",
    "        pref_matrix = self.pref_score(pref_df, bio_filters_df)\n",
    "        interest_score_cos_matrix = self. int_score(int_df)\n",
    "        habit_score_cos_matrix = self.habit_score(habit_df)\n",
    "        personality_score_cos_matrix = self.pers_score(pers_df)\n",
    "        flat_df = self.flat_score(flat_df)\n",
    "        \n",
    "        score_dict = {\"user_info\":bio_filters_df,\n",
    "             \"bio_score_cos_matrix\":bio_score_cos_matrix,\n",
    "             \"pref_matrix\":pref_matrix,\n",
    "             \"interest_score_cos_matrix\":interest_score_cos_matrix,\n",
    "             \"habit_score_cos_matrix\":habit_score_cos_matrix,\n",
    "             \"personality_score_cos_matrix\":personality_score_cos_matrix,\n",
    "             \"flat_info\":flat_df}\n",
    "        \n",
    "        return score_dict\n",
    "        "
   ]
  },
  {
   "cell_type": "code",
   "execution_count": 5,
   "metadata": {},
   "outputs": [
    {
     "name": "stderr",
     "output_type": "stream",
     "text": [
      "/anaconda3/lib/python3.6/site-packages/ipykernel_launcher.py:72: SettingWithCopyWarning: \n",
      "A value is trying to be set on a copy of a slice from a DataFrame.\n",
      "Try using .loc[row_indexer,col_indexer] = value instead\n",
      "\n",
      "See the caveats in the documentation: http://pandas.pydata.org/pandas-docs/stable/indexing.html#indexing-view-versus-copy\n",
      "/anaconda3/lib/python3.6/site-packages/ipykernel_launcher.py:74: SettingWithCopyWarning: \n",
      "A value is trying to be set on a copy of a slice from a DataFrame.\n",
      "Try using .loc[row_indexer,col_indexer] = value instead\n",
      "\n",
      "See the caveats in the documentation: http://pandas.pydata.org/pandas-docs/stable/indexing.html#indexing-view-versus-copy\n",
      "/anaconda3/lib/python3.6/site-packages/pandas/core/frame.py:3694: SettingWithCopyWarning: \n",
      "A value is trying to be set on a copy of a slice from a DataFrame\n",
      "\n",
      "See the caveats in the documentation: http://pandas.pydata.org/pandas-docs/stable/indexing.html#indexing-view-versus-copy\n",
      "  errors=errors)\n",
      "/anaconda3/lib/python3.6/site-packages/ipykernel_launcher.py:156: SettingWithCopyWarning: \n",
      "A value is trying to be set on a copy of a slice from a DataFrame.\n",
      "Try using .loc[row_indexer,col_indexer] = value instead\n",
      "\n",
      "See the caveats in the documentation: http://pandas.pydata.org/pandas-docs/stable/indexing.html#indexing-view-versus-copy\n",
      "/anaconda3/lib/python3.6/site-packages/ipykernel_launcher.py:158: SettingWithCopyWarning: \n",
      "A value is trying to be set on a copy of a slice from a DataFrame.\n",
      "Try using .loc[row_indexer,col_indexer] = value instead\n",
      "\n",
      "See the caveats in the documentation: http://pandas.pydata.org/pandas-docs/stable/indexing.html#indexing-view-versus-copy\n",
      "/anaconda3/lib/python3.6/site-packages/ipykernel_launcher.py:160: SettingWithCopyWarning: \n",
      "A value is trying to be set on a copy of a slice from a DataFrame.\n",
      "Try using .loc[row_indexer,col_indexer] = value instead\n",
      "\n",
      "See the caveats in the documentation: http://pandas.pydata.org/pandas-docs/stable/indexing.html#indexing-view-versus-copy\n",
      "/anaconda3/lib/python3.6/site-packages/ipykernel_launcher.py:162: SettingWithCopyWarning: \n",
      "A value is trying to be set on a copy of a slice from a DataFrame.\n",
      "Try using .loc[row_indexer,col_indexer] = value instead\n",
      "\n",
      "See the caveats in the documentation: http://pandas.pydata.org/pandas-docs/stable/indexing.html#indexing-view-versus-copy\n"
     ]
    }
   ],
   "source": [
    "run_through = DataManager(responses_filename='../responses/ark_responses_2.csv')\n",
    "score_dict = run_through.run_data_manager()"
   ]
  },
  {
   "cell_type": "code",
   "execution_count": null,
   "metadata": {},
   "outputs": [],
   "source": []
  },
  {
   "cell_type": "markdown",
   "metadata": {},
   "source": [
    "## Data management"
   ]
  },
  {
   "cell_type": "code",
   "execution_count": 7,
   "metadata": {},
   "outputs": [],
   "source": [
    "response_df = pd.read_csv('../responses/ark_responses_2.csv')\n",
    "response_df.set_index('Bio: Name',inplace=True)\n",
    "del response_df.index.name\n",
    "timestamps = response_df['Timestamp']\n",
    "response_df.drop(columns=['Timestamp'],inplace=True)"
   ]
  },
  {
   "cell_type": "code",
   "execution_count": 8,
   "metadata": {},
   "outputs": [],
   "source": [
    "def sort_responses(df):\n",
    "    bio_questions = []\n",
    "    pref_questions = []\n",
    "    int_questions = []\n",
    "    hab_questions = []\n",
    "    pers_questions = []\n",
    "    flat_questions = []\n",
    "    extra_questions = []\n",
    "\n",
    "    for column in df.columns:\n",
    "        if \"Bio\" in column:\n",
    "            bio_questions.append(column)\n",
    "        elif \"Preferences\" in column:\n",
    "            pref_questions.append(column)\n",
    "        elif \"Interests\" in column:\n",
    "            int_questions.append(column)\n",
    "        elif \"Habits\" in column:\n",
    "            hab_questions.append(column)\n",
    "        elif \"Personality\" in column:\n",
    "            pers_questions.append(column)\n",
    "        elif \"Flat\" in column:\n",
    "            flat_questions.append(column)\n",
    "        elif \"Extra\" in column:\n",
    "            extra_questions.append(column)\n",
    "        else:\n",
    "            print(column)\n",
    "    \n",
    "    bio_df = df[bio_questions]\n",
    "    pref_df = df[pref_questions]\n",
    "    int_df = df[int_questions]\n",
    "    habit_df = df[hab_questions]\n",
    "    pers_df = df[pers_questions]\n",
    "    flat_df = df[flat_questions]\n",
    "    extra_df = df[extra_questions]\n",
    "    \n",
    "    return bio_df, pref_df, int_df, habit_df, pers_df, flat_df, extra_df"
   ]
  },
  {
   "cell_type": "code",
   "execution_count": 9,
   "metadata": {},
   "outputs": [],
   "source": [
    "bio_df, pref_df, int_df, habit_df, pers_df, flat_df, extra_df = sort_responses(response_df)"
   ]
  },
  {
   "cell_type": "markdown",
   "metadata": {},
   "source": [
    "## Bio score"
   ]
  },
  {
   "cell_type": "code",
   "execution_count": 10,
   "metadata": {},
   "outputs": [],
   "source": [
    "bio_filters_df = bio_df[['Bio: Gender', \n",
    "                         'Bio: Age', \n",
    "                         'Bio: Sexuality', \n",
    "                         'Bio: Birthplace',\n",
    "                         'Bio: Diet', \n",
    "                         'Bio: Ethnicity',\n",
    "                         'Bio: Political views', \n",
    "                         'Bio: Highest level of education',\n",
    "                         'Bio: Employment status']]\n",
    "\n",
    "bio_score_df = bio_df[['Bio: How often do you drink?', \n",
    "                       'Bio: How often do you smoke?',\n",
    "                       'Bio: Do you smoke/take weed?',\n",
    "                       'Bio: How often do you partake in any other recreational substances?']]"
   ]
  },
  {
   "cell_type": "code",
   "execution_count": 30,
   "metadata": {},
   "outputs": [],
   "source": [
    "user_name = 'Tunji'\n",
    "user_row = bio_score_df.loc[user_name].values.reshape(1, -1)\n",
    "reduced_df = bio_score_df.drop(user_name, axis=0)"
   ]
  },
  {
   "cell_type": "code",
   "execution_count": 31,
   "metadata": {},
   "outputs": [],
   "source": [
    "cos_score = cosine_similarity(bio_score_df.loc[user_name].values.reshape(1, -1),\\\n",
    "                              bio_score_df.drop(user_name,axis=0))"
   ]
  },
  {
   "cell_type": "code",
   "execution_count": 46,
   "metadata": {},
   "outputs": [
    {
     "data": {
      "text/plain": [
       "array([0.79442991, 0.85280287, 0.85280287, 0.85280287])"
      ]
     },
     "execution_count": 46,
     "metadata": {},
     "output_type": "execute_result"
    }
   ],
   "source": [
    "cos_score.flatten()"
   ]
  },
  {
   "cell_type": "code",
   "execution_count": 42,
   "metadata": {},
   "outputs": [
    {
     "data": {
      "text/plain": [
       "['Jane Doe', 'Son Goku', 'Theo Walcott', 'Marie Kondo']"
      ]
     },
     "execution_count": 42,
     "metadata": {},
     "output_type": "execute_result"
    }
   ],
   "source": [
    "list(reduced_df.index)"
   ]
  },
  {
   "cell_type": "code",
   "execution_count": 48,
   "metadata": {},
   "outputs": [
    {
     "data": {
      "text/html": [
       "<div>\n",
       "<style scoped>\n",
       "    .dataframe tbody tr th:only-of-type {\n",
       "        vertical-align: middle;\n",
       "    }\n",
       "\n",
       "    .dataframe tbody tr th {\n",
       "        vertical-align: top;\n",
       "    }\n",
       "\n",
       "    .dataframe thead th {\n",
       "        text-align: right;\n",
       "    }\n",
       "</style>\n",
       "<table border=\"1\" class=\"dataframe\">\n",
       "  <thead>\n",
       "    <tr style=\"text-align: right;\">\n",
       "      <th></th>\n",
       "      <th>Tunji</th>\n",
       "    </tr>\n",
       "  </thead>\n",
       "  <tbody>\n",
       "    <tr>\n",
       "      <th>Jane Doe</th>\n",
       "      <td>0.794430</td>\n",
       "    </tr>\n",
       "    <tr>\n",
       "      <th>Son Goku</th>\n",
       "      <td>0.852803</td>\n",
       "    </tr>\n",
       "    <tr>\n",
       "      <th>Theo Walcott</th>\n",
       "      <td>0.852803</td>\n",
       "    </tr>\n",
       "    <tr>\n",
       "      <th>Marie Kondo</th>\n",
       "      <td>0.852803</td>\n",
       "    </tr>\n",
       "  </tbody>\n",
       "</table>\n",
       "</div>"
      ],
      "text/plain": [
       "                 Tunji\n",
       "Jane Doe      0.794430\n",
       "Son Goku      0.852803\n",
       "Theo Walcott  0.852803\n",
       "Marie Kondo   0.852803"
      ]
     },
     "execution_count": 48,
     "metadata": {},
     "output_type": "execute_result"
    }
   ],
   "source": [
    "pd.DataFrame(cos_score.flatten(),\n",
    "             index=reduced_df.index,\n",
    "            columns=[user_name])"
   ]
  },
  {
   "cell_type": "code",
   "execution_count": 20,
   "metadata": {},
   "outputs": [],
   "source": [
    "bio_score_cos_matrix = pd.DataFrame(cosine_similarity(bio_score_df),\n",
    "             index=bio_score_df.index,\n",
    "             columns=bio_score_df.index)"
   ]
  },
  {
   "cell_type": "code",
   "execution_count": 21,
   "metadata": {},
   "outputs": [
    {
     "data": {
      "text/html": [
       "<div>\n",
       "<style scoped>\n",
       "    .dataframe tbody tr th:only-of-type {\n",
       "        vertical-align: middle;\n",
       "    }\n",
       "\n",
       "    .dataframe tbody tr th {\n",
       "        vertical-align: top;\n",
       "    }\n",
       "\n",
       "    .dataframe thead th {\n",
       "        text-align: right;\n",
       "    }\n",
       "</style>\n",
       "<table border=\"1\" class=\"dataframe\">\n",
       "  <thead>\n",
       "    <tr style=\"text-align: right;\">\n",
       "      <th></th>\n",
       "      <th>Tunji</th>\n",
       "      <th>Jane Doe</th>\n",
       "      <th>Son Goku</th>\n",
       "      <th>Theo Walcott</th>\n",
       "      <th>Marie Kondo</th>\n",
       "    </tr>\n",
       "  </thead>\n",
       "  <tbody>\n",
       "    <tr>\n",
       "      <th>Tunji</th>\n",
       "      <td>1.000000</td>\n",
       "      <td>0.794430</td>\n",
       "      <td>0.852803</td>\n",
       "      <td>0.852803</td>\n",
       "      <td>0.852803</td>\n",
       "    </tr>\n",
       "    <tr>\n",
       "      <th>Jane Doe</th>\n",
       "      <td>0.794430</td>\n",
       "      <td>1.000000</td>\n",
       "      <td>0.980581</td>\n",
       "      <td>0.980581</td>\n",
       "      <td>0.980581</td>\n",
       "    </tr>\n",
       "    <tr>\n",
       "      <th>Son Goku</th>\n",
       "      <td>0.852803</td>\n",
       "      <td>0.980581</td>\n",
       "      <td>1.000000</td>\n",
       "      <td>1.000000</td>\n",
       "      <td>1.000000</td>\n",
       "    </tr>\n",
       "    <tr>\n",
       "      <th>Theo Walcott</th>\n",
       "      <td>0.852803</td>\n",
       "      <td>0.980581</td>\n",
       "      <td>1.000000</td>\n",
       "      <td>1.000000</td>\n",
       "      <td>1.000000</td>\n",
       "    </tr>\n",
       "    <tr>\n",
       "      <th>Marie Kondo</th>\n",
       "      <td>0.852803</td>\n",
       "      <td>0.980581</td>\n",
       "      <td>1.000000</td>\n",
       "      <td>1.000000</td>\n",
       "      <td>1.000000</td>\n",
       "    </tr>\n",
       "  </tbody>\n",
       "</table>\n",
       "</div>"
      ],
      "text/plain": [
       "                 Tunji  Jane Doe  Son Goku  Theo Walcott  Marie Kondo\n",
       "Tunji         1.000000  0.794430  0.852803      0.852803     0.852803\n",
       "Jane Doe      0.794430  1.000000  0.980581      0.980581     0.980581\n",
       "Son Goku      0.852803  0.980581  1.000000      1.000000     1.000000\n",
       "Theo Walcott  0.852803  0.980581  1.000000      1.000000     1.000000\n",
       "Marie Kondo   0.852803  0.980581  1.000000      1.000000     1.000000"
      ]
     },
     "execution_count": 21,
     "metadata": {},
     "output_type": "execute_result"
    }
   ],
   "source": [
    "bio_score_cos_matrix"
   ]
  },
  {
   "cell_type": "markdown",
   "metadata": {},
   "source": [
    "## Preferences score"
   ]
  },
  {
   "cell_type": "code",
   "execution_count": 49,
   "metadata": {},
   "outputs": [],
   "source": [
    "pref_df_merge = pref_df.copy()\n",
    "bio_filters_df_merge = bio_filters_df.copy()\n",
    "\n",
    "pref_df_merge[\"dummy\"] = 0\n",
    "pref_df_merge = pref_df_merge.reset_index().rename(columns={\"index\":\"pref_name\"})\n",
    "bio_filters_df_merge[\"dummy\"] = 0\n",
    "bio_filters_df_merge = bio_filters_df_merge.reset_index().rename(columns={\"index\":\"bio_name\"})"
   ]
  },
  {
   "cell_type": "code",
   "execution_count": 50,
   "metadata": {},
   "outputs": [],
   "source": [
    "merged_df = pd.merge(pref_df_merge,bio_filters_df_merge,on=\"dummy\",how=\"outer\")\n",
    "merged_df[\"Preferences: Minimum age of flatmate\"] = merged_df[\"Preferences: Minimum age of flatmate\"].fillna(0)\n",
    "merged_df[\"Preferences: Maximum age of flatmate\"] = merged_df[\"Preferences: Maximum age of flatmate\"].fillna(100)\n"
   ]
  },
  {
   "cell_type": "code",
   "execution_count": 51,
   "metadata": {},
   "outputs": [],
   "source": [
    "merged_df = merged_df[merged_df[\"pref_name\"] != merged_df[\"bio_name\"]]\n",
    "merged_df[\"match\"] = 0"
   ]
  },
  {
   "cell_type": "code",
   "execution_count": 54,
   "metadata": {},
   "outputs": [
    {
     "data": {
      "text/plain": [
       "'Tunji'"
      ]
     },
     "execution_count": 54,
     "metadata": {},
     "output_type": "execute_result"
    }
   ],
   "source": [
    "user_name"
   ]
  },
  {
   "cell_type": "code",
   "execution_count": 55,
   "metadata": {},
   "outputs": [
    {
     "data": {
      "text/html": [
       "<div>\n",
       "<style scoped>\n",
       "    .dataframe tbody tr th:only-of-type {\n",
       "        vertical-align: middle;\n",
       "    }\n",
       "\n",
       "    .dataframe tbody tr th {\n",
       "        vertical-align: top;\n",
       "    }\n",
       "\n",
       "    .dataframe thead th {\n",
       "        text-align: right;\n",
       "    }\n",
       "</style>\n",
       "<table border=\"1\" class=\"dataframe\">\n",
       "  <thead>\n",
       "    <tr style=\"text-align: right;\">\n",
       "      <th></th>\n",
       "      <th>pref_name</th>\n",
       "      <th>Preferences: Minimum age of flatmate</th>\n",
       "      <th>Preferences: Maximum age of flatmate</th>\n",
       "      <th>Preferences: Sex of flatmate</th>\n",
       "      <th>dummy</th>\n",
       "      <th>bio_name</th>\n",
       "      <th>Bio: Gender</th>\n",
       "      <th>Bio: Age</th>\n",
       "      <th>Bio: Sexuality</th>\n",
       "      <th>Bio: Birthplace</th>\n",
       "      <th>Bio: Diet</th>\n",
       "      <th>Bio: Ethnicity</th>\n",
       "      <th>Bio: Political views</th>\n",
       "      <th>Bio: Highest level of education</th>\n",
       "      <th>Bio: Employment status</th>\n",
       "      <th>match</th>\n",
       "    </tr>\n",
       "  </thead>\n",
       "  <tbody>\n",
       "    <tr>\n",
       "      <th>1</th>\n",
       "      <td>Tunji</td>\n",
       "      <td>25.0</td>\n",
       "      <td>35.0</td>\n",
       "      <td>Open to all</td>\n",
       "      <td>0</td>\n",
       "      <td>Jane Doe</td>\n",
       "      <td>Female</td>\n",
       "      <td>35</td>\n",
       "      <td>Bisexual</td>\n",
       "      <td>Brighton</td>\n",
       "      <td>Vegetarian</td>\n",
       "      <td>White</td>\n",
       "      <td>Liberal</td>\n",
       "      <td>Undergraduate</td>\n",
       "      <td>Student</td>\n",
       "      <td>0</td>\n",
       "    </tr>\n",
       "    <tr>\n",
       "      <th>2</th>\n",
       "      <td>Tunji</td>\n",
       "      <td>25.0</td>\n",
       "      <td>35.0</td>\n",
       "      <td>Open to all</td>\n",
       "      <td>0</td>\n",
       "      <td>Son Goku</td>\n",
       "      <td>Male</td>\n",
       "      <td>40</td>\n",
       "      <td>Heterosexual</td>\n",
       "      <td>Planet Vegeta</td>\n",
       "      <td>Varied</td>\n",
       "      <td>Asian</td>\n",
       "      <td>Conservative</td>\n",
       "      <td>Secondary School</td>\n",
       "      <td>Unemployed</td>\n",
       "      <td>0</td>\n",
       "    </tr>\n",
       "    <tr>\n",
       "      <th>3</th>\n",
       "      <td>Tunji</td>\n",
       "      <td>25.0</td>\n",
       "      <td>35.0</td>\n",
       "      <td>Open to all</td>\n",
       "      <td>0</td>\n",
       "      <td>Theo Walcott</td>\n",
       "      <td>Male</td>\n",
       "      <td>31</td>\n",
       "      <td>Heterosexual</td>\n",
       "      <td>Surrey</td>\n",
       "      <td>Varied</td>\n",
       "      <td>Mixed</td>\n",
       "      <td>Liberal</td>\n",
       "      <td>College</td>\n",
       "      <td>Full time employed</td>\n",
       "      <td>0</td>\n",
       "    </tr>\n",
       "    <tr>\n",
       "      <th>4</th>\n",
       "      <td>Tunji</td>\n",
       "      <td>25.0</td>\n",
       "      <td>35.0</td>\n",
       "      <td>Open to all</td>\n",
       "      <td>0</td>\n",
       "      <td>Marie Kondo</td>\n",
       "      <td>Female</td>\n",
       "      <td>35</td>\n",
       "      <td>Heterosexual</td>\n",
       "      <td>Tokyo</td>\n",
       "      <td>Varied</td>\n",
       "      <td>Asian</td>\n",
       "      <td>Conservative</td>\n",
       "      <td>Undergraduate</td>\n",
       "      <td>Full time employed</td>\n",
       "      <td>0</td>\n",
       "    </tr>\n",
       "    <tr>\n",
       "      <th>5</th>\n",
       "      <td>Jane Doe</td>\n",
       "      <td>0.0</td>\n",
       "      <td>100.0</td>\n",
       "      <td>Female</td>\n",
       "      <td>0</td>\n",
       "      <td>Tunji</td>\n",
       "      <td>Male</td>\n",
       "      <td>29</td>\n",
       "      <td>Heterosexual</td>\n",
       "      <td>London</td>\n",
       "      <td>Varied</td>\n",
       "      <td>Black</td>\n",
       "      <td>Moderate</td>\n",
       "      <td>Post-Graduate</td>\n",
       "      <td>Full time employed</td>\n",
       "      <td>0</td>\n",
       "    </tr>\n",
       "    <tr>\n",
       "      <th>10</th>\n",
       "      <td>Son Goku</td>\n",
       "      <td>0.0</td>\n",
       "      <td>100.0</td>\n",
       "      <td>Open to all</td>\n",
       "      <td>0</td>\n",
       "      <td>Tunji</td>\n",
       "      <td>Male</td>\n",
       "      <td>29</td>\n",
       "      <td>Heterosexual</td>\n",
       "      <td>London</td>\n",
       "      <td>Varied</td>\n",
       "      <td>Black</td>\n",
       "      <td>Moderate</td>\n",
       "      <td>Post-Graduate</td>\n",
       "      <td>Full time employed</td>\n",
       "      <td>0</td>\n",
       "    </tr>\n",
       "    <tr>\n",
       "      <th>15</th>\n",
       "      <td>Theo Walcott</td>\n",
       "      <td>0.0</td>\n",
       "      <td>100.0</td>\n",
       "      <td>Open to all</td>\n",
       "      <td>0</td>\n",
       "      <td>Tunji</td>\n",
       "      <td>Male</td>\n",
       "      <td>29</td>\n",
       "      <td>Heterosexual</td>\n",
       "      <td>London</td>\n",
       "      <td>Varied</td>\n",
       "      <td>Black</td>\n",
       "      <td>Moderate</td>\n",
       "      <td>Post-Graduate</td>\n",
       "      <td>Full time employed</td>\n",
       "      <td>0</td>\n",
       "    </tr>\n",
       "    <tr>\n",
       "      <th>20</th>\n",
       "      <td>Marie Kondo</td>\n",
       "      <td>20.0</td>\n",
       "      <td>50.0</td>\n",
       "      <td>Open to all</td>\n",
       "      <td>0</td>\n",
       "      <td>Tunji</td>\n",
       "      <td>Male</td>\n",
       "      <td>29</td>\n",
       "      <td>Heterosexual</td>\n",
       "      <td>London</td>\n",
       "      <td>Varied</td>\n",
       "      <td>Black</td>\n",
       "      <td>Moderate</td>\n",
       "      <td>Post-Graduate</td>\n",
       "      <td>Full time employed</td>\n",
       "      <td>0</td>\n",
       "    </tr>\n",
       "  </tbody>\n",
       "</table>\n",
       "</div>"
      ],
      "text/plain": [
       "       pref_name  Preferences: Minimum age of flatmate  \\\n",
       "1          Tunji                                  25.0   \n",
       "2          Tunji                                  25.0   \n",
       "3          Tunji                                  25.0   \n",
       "4          Tunji                                  25.0   \n",
       "5       Jane Doe                                   0.0   \n",
       "10      Son Goku                                   0.0   \n",
       "15  Theo Walcott                                   0.0   \n",
       "20   Marie Kondo                                  20.0   \n",
       "\n",
       "    Preferences: Maximum age of flatmate Preferences: Sex of flatmate  dummy  \\\n",
       "1                                   35.0                  Open to all      0   \n",
       "2                                   35.0                  Open to all      0   \n",
       "3                                   35.0                  Open to all      0   \n",
       "4                                   35.0                  Open to all      0   \n",
       "5                                  100.0                       Female      0   \n",
       "10                                 100.0                  Open to all      0   \n",
       "15                                 100.0                  Open to all      0   \n",
       "20                                  50.0                  Open to all      0   \n",
       "\n",
       "        bio_name Bio: Gender  Bio: Age Bio: Sexuality Bio: Birthplace  \\\n",
       "1       Jane Doe      Female        35       Bisexual        Brighton   \n",
       "2       Son Goku        Male        40   Heterosexual   Planet Vegeta   \n",
       "3   Theo Walcott        Male        31   Heterosexual          Surrey   \n",
       "4    Marie Kondo      Female        35   Heterosexual           Tokyo   \n",
       "5          Tunji        Male        29   Heterosexual          London   \n",
       "10         Tunji        Male        29   Heterosexual          London   \n",
       "15         Tunji        Male        29   Heterosexual          London   \n",
       "20         Tunji        Male        29   Heterosexual          London   \n",
       "\n",
       "     Bio: Diet Bio: Ethnicity Bio: Political views  \\\n",
       "1   Vegetarian          White              Liberal   \n",
       "2       Varied          Asian         Conservative   \n",
       "3       Varied          Mixed              Liberal   \n",
       "4       Varied          Asian         Conservative   \n",
       "5       Varied          Black             Moderate   \n",
       "10      Varied          Black             Moderate   \n",
       "15      Varied          Black             Moderate   \n",
       "20      Varied          Black             Moderate   \n",
       "\n",
       "   Bio: Highest level of education Bio: Employment status  match  \n",
       "1                    Undergraduate                Student      0  \n",
       "2                 Secondary School             Unemployed      0  \n",
       "3                          College     Full time employed      0  \n",
       "4                    Undergraduate     Full time employed      0  \n",
       "5                    Post-Graduate     Full time employed      0  \n",
       "10                   Post-Graduate     Full time employed      0  \n",
       "15                   Post-Graduate     Full time employed      0  \n",
       "20                   Post-Graduate     Full time employed      0  "
      ]
     },
     "execution_count": 55,
     "metadata": {},
     "output_type": "execute_result"
    }
   ],
   "source": [
    "    merged_df[(merged_df[\"pref_name\"] == user_name)|(merged_df[\"bio_name\"] == user_name)]"
   ]
  },
  {
   "cell_type": "code",
   "execution_count": 56,
   "metadata": {},
   "outputs": [],
   "source": [
    "def pref_filter(row):\n",
    "    if row[\"Bio: Age\"] >= row[\"Preferences: Minimum age of flatmate\"] and\\\n",
    "    row[\"Bio: Age\"] <= row[\"Preferences: Maximum age of flatmate\"]:\n",
    "        if row[\"Preferences: Sex of flatmate\"] == \"Open to all\":\n",
    "            return 1\n",
    "        elif row[\"Bio: Gender\"] in row[\"Preferences: Sex of flatmate\"]:\n",
    "            return 1\n",
    "        else:\n",
    "            return 0\n",
    "    else:\n",
    "        return 0"
   ]
  },
  {
   "cell_type": "code",
   "execution_count": 57,
   "metadata": {},
   "outputs": [],
   "source": [
    "merged_df[\"match\"] = merged_df.apply(lambda row: pref_filter(row), axis=1)\n",
    "merged_df = merged_df[[\"pref_name\",\"bio_name\",\"match\"]]"
   ]
  },
  {
   "cell_type": "code",
   "execution_count": 58,
   "metadata": {},
   "outputs": [],
   "source": [
    "merged_df_double = pd.merge(merged_df,\n",
    "                            merged_df,\n",
    "                            left_on=[\"pref_name\",\"bio_name\"],\n",
    "                            right_on=[\"bio_name\",\"pref_name\"],\n",
    "                            how=\"inner\")\n",
    "merged_df_double = merged_df_double[merged_df_double[\"pref_name_x\"] != merged_df_double[\"bio_name_x\"]]"
   ]
  },
  {
   "cell_type": "code",
   "execution_count": 59,
   "metadata": {},
   "outputs": [],
   "source": [
    "merged_df_double = merged_df_double[(merged_df_double[\"match_x\"]==1)&(merged_df_double[\"match_y\"]==1)]\n",
    "merged_df_double = merged_df_double[[\"pref_name_x\",\"pref_name_y\"]]\n"
   ]
  },
  {
   "cell_type": "code",
   "execution_count": 60,
   "metadata": {},
   "outputs": [],
   "source": [
    "pref_matrix = merged_df_double[[\"pref_name_x\",\"pref_name_y\"]]"
   ]
  },
  {
   "cell_type": "code",
   "execution_count": 62,
   "metadata": {},
   "outputs": [
    {
     "data": {
      "text/html": [
       "<div>\n",
       "<style scoped>\n",
       "    .dataframe tbody tr th:only-of-type {\n",
       "        vertical-align: middle;\n",
       "    }\n",
       "\n",
       "    .dataframe tbody tr th {\n",
       "        vertical-align: top;\n",
       "    }\n",
       "\n",
       "    .dataframe thead th {\n",
       "        text-align: right;\n",
       "    }\n",
       "</style>\n",
       "<table border=\"1\" class=\"dataframe\">\n",
       "  <thead>\n",
       "    <tr style=\"text-align: right;\">\n",
       "      <th></th>\n",
       "      <th>pref_name_x</th>\n",
       "      <th>pref_name_y</th>\n",
       "    </tr>\n",
       "  </thead>\n",
       "  <tbody>\n",
       "    <tr>\n",
       "      <th>2</th>\n",
       "      <td>Tunji</td>\n",
       "      <td>Theo Walcott</td>\n",
       "    </tr>\n",
       "    <tr>\n",
       "      <th>3</th>\n",
       "      <td>Tunji</td>\n",
       "      <td>Marie Kondo</td>\n",
       "    </tr>\n",
       "  </tbody>\n",
       "</table>\n",
       "</div>"
      ],
      "text/plain": [
       "  pref_name_x   pref_name_y\n",
       "2       Tunji  Theo Walcott\n",
       "3       Tunji   Marie Kondo"
      ]
     },
     "execution_count": 62,
     "metadata": {},
     "output_type": "execute_result"
    }
   ],
   "source": [
    "pref_matrix[pref_matrix.pref_name_x==user_name]"
   ]
  },
  {
   "cell_type": "markdown",
   "metadata": {},
   "source": [
    "## Interest score"
   ]
  },
  {
   "cell_type": "code",
   "execution_count": null,
   "metadata": {},
   "outputs": [],
   "source": [
    "interest_score_cos_matrix = pd.DataFrame(cosine_similarity(int_df),\n",
    "                                      index=int_df.index,\n",
    "                                      columns=int_df.index)"
   ]
  },
  {
   "cell_type": "code",
   "execution_count": null,
   "metadata": {},
   "outputs": [],
   "source": [
    "interest_score_cos_matrix"
   ]
  },
  {
   "cell_type": "markdown",
   "metadata": {},
   "source": [
    "## Habit score"
   ]
  },
  {
   "cell_type": "code",
   "execution_count": null,
   "metadata": {},
   "outputs": [],
   "source": [
    "# One hot encodes string variables\n",
    "\n",
    "# groups columns by dtype and puts in dict\n",
    "habit_df_dtype_dict = habit_df.columns.to_series().groupby(habit_df.dtypes).groups\n",
    "\n",
    "# selects list of text columns\n",
    "habit_df_text_columns = list(habit_df_dtype_dict[np.dtype('O')])\n",
    "\n",
    "# creates df from one hot encoded text columns\n",
    "habit_object_df = pd.get_dummies(habit_df[habit_df_text_columns])\n",
    "\n",
    "# drops old text columns\n",
    "habit_df.drop(columns=habit_df_text_columns,inplace=True)\n",
    "\n",
    "# concats new one hot encoded columns\n",
    "habit_df = pd.concat([habit_df,habit_object_df],axis=1)"
   ]
  },
  {
   "cell_type": "code",
   "execution_count": null,
   "metadata": {},
   "outputs": [],
   "source": [
    "habit_score_cos_matrix = pd.DataFrame(cosine_similarity(habit_df),\n",
    "                                      index=habit_df.index,\n",
    "                                      columns=habit_df.index)"
   ]
  },
  {
   "cell_type": "markdown",
   "metadata": {},
   "source": [
    "## Personality"
   ]
  },
  {
   "cell_type": "code",
   "execution_count": null,
   "metadata": {},
   "outputs": [],
   "source": [
    "personality_score_cos_matrix = pd.DataFrame(cosine_similarity(pers_df),\n",
    "             index=pers_df.index,\n",
    "             columns=pers_df.index)"
   ]
  },
  {
   "cell_type": "code",
   "execution_count": null,
   "metadata": {},
   "outputs": [],
   "source": [
    "personality_score_cos_matrix"
   ]
  },
  {
   "cell_type": "markdown",
   "metadata": {},
   "source": [
    "## Flat score"
   ]
  },
  {
   "cell_type": "code",
   "execution_count": null,
   "metadata": {},
   "outputs": [],
   "source": [
    "flat_copy = flat_df.copy()"
   ]
  },
  {
   "cell_type": "code",
   "execution_count": null,
   "metadata": {},
   "outputs": [],
   "source": [
    "# Splitting string of zones and prices into lists\n",
    "\n",
    "# try using replace!\n",
    "\n",
    "flat_df[\"Flat: Where are you looking to live in London? (Tick all that apply)\"] = \\\n",
    "flat_df[\"Flat: Where are you looking to live in London? (Tick all that apply)\"]\\\n",
    ".str.split(',')\n",
    "\n",
    "flat_df[\"Flat: What price range are you looking for? Tick all that apply\"] = \\\n",
    "flat_df[\"Flat: What price range are you looking for? Tick all that apply\"]\\\n",
    ".str.split(',')"
   ]
  },
  {
   "cell_type": "code",
   "execution_count": null,
   "metadata": {},
   "outputs": [],
   "source": [
    "# removing whitespaces TODO: Do better!\n",
    "\n",
    "flat_df[\"Flat: Where are you looking to live in London? (Tick all that apply)\"] = \\\n",
    "flat_df[\"Flat: Where are you looking to live in London? (Tick all that apply)\"].\\\n",
    "apply(lambda x: [zone.lstrip(' ') for zone in x])"
   ]
  },
  {
   "cell_type": "code",
   "execution_count": null,
   "metadata": {},
   "outputs": [],
   "source": [
    "# removing whitespaces TODO: Do better!\n",
    "\n",
    "flat_df[\"Flat: What price range are you looking for? Tick all that apply\"] = \\\n",
    "flat_df[\"Flat: What price range are you looking for? Tick all that apply\"].\\\n",
    "apply(lambda x: [price_range.lstrip(' ') for price_range in x])"
   ]
  },
  {
   "cell_type": "code",
   "execution_count": null,
   "metadata": {},
   "outputs": [],
   "source": [
    "# May be quicker way to do this\n",
    "\n",
    "def one_hot_encode_list(df,column_name):\n",
    "    mlb = MultiLabelBinarizer()\n",
    "    df = df.join(pd.DataFrame(mlb.fit_transform(df.pop(column_name)),\n",
    "                          columns=mlb.classes_,\n",
    "                          index=df.index))\n",
    "    return df"
   ]
  },
  {
   "cell_type": "code",
   "execution_count": null,
   "metadata": {},
   "outputs": [],
   "source": [
    "flat_df = one_hot_encode_list(flat_df,\n",
    "                              \"Flat: Where are you looking to live in London? (Tick all that apply)\")\n",
    "\n",
    "flat_df = one_hot_encode_list(flat_df,\n",
    "                              \"Flat: What price range are you looking for? Tick all that apply\")"
   ]
  },
  {
   "cell_type": "code",
   "execution_count": null,
   "metadata": {},
   "outputs": [],
   "source": [
    "flat_df.columns = [column.strip() for column in flat_df.columns]"
   ]
  },
  {
   "cell_type": "code",
   "execution_count": null,
   "metadata": {},
   "outputs": [],
   "source": [
    "def flat_df_match(df,names_tuple):\n",
    "    \n",
    "    zone_filter_columns = [\"Zone 1\",\n",
    "                     \"Zone 2\",\n",
    "                     \"Zone 3\",\n",
    "                     \"Zone 4\",\n",
    "                     \"Zone 5\",\n",
    "                     \"Zone 6\",\n",
    "                     ]\n",
    "    \n",
    "    price_filter_columns = [\n",
    "                     \"0-500\",\n",
    "                     \"500-599\",\n",
    "                     \"600-699\",\n",
    "                     \"700-799\",\n",
    "                     \"800-899\",\n",
    "                     \"900-999\",\n",
    "                     \"1000+\"]\n",
    "    \n",
    "    temp_df = df.loc[names_tuple]\n",
    "    \n",
    "    zone_list = []\n",
    "    for zone in zone_filter_columns:\n",
    "        if zone not in temp_df.columns:\n",
    "            pass\n",
    "        else:\n",
    "            if temp_df.loc[[names_tuple[0]],zone].item() == temp_df.loc[[names_tuple[1]],zone].item():\n",
    "                zone_list.append(zone)\n",
    "            else:\n",
    "                pass\n",
    "    \n",
    "    price_list = []\n",
    "    for price in price_filter_columns:\n",
    "        if price not in temp_df.columns:\n",
    "            pass\n",
    "        else:\n",
    "            if temp_df.loc[[names_tuple[0]],price].item() == temp_df.loc[[names_tuple[1]],price].item():\n",
    "                price_list.append(price)\n",
    "            else:\n",
    "                pass\n",
    "    \n",
    "    result_dict = {\"zones\":zone_list,\n",
    "                  \"prices\":price_list}\n",
    "    \n",
    "    return result_dict"
   ]
  },
  {
   "cell_type": "code",
   "execution_count": null,
   "metadata": {},
   "outputs": [],
   "source": [
    "flat_df_match(flat_df,[\"Tunji\",\"Theo Walcott\"])"
   ]
  },
  {
   "cell_type": "code",
   "execution_count": null,
   "metadata": {},
   "outputs": [],
   "source": [
    "flat_df"
   ]
  },
  {
   "cell_type": "markdown",
   "metadata": {},
   "source": [
    "## User Application"
   ]
  },
  {
   "cell_type": "code",
   "execution_count": null,
   "metadata": {},
   "outputs": [],
   "source": [
    "score_dict = {\"user_info\":bio_filters_df,\n",
    "             \"bio_score_cos_matrix\":bio_score_cos_matrix,\n",
    "             \"pref_matrix\":pref_matrix,\n",
    "             \"interest_score_cos_matrix\":interest_score_cos_matrix,\n",
    "             \"habit_score_cos_matrix\":habit_score_cos_matrix,\n",
    "             \"personality_score_cos_matrix\":personality_score_cos_matrix,\n",
    "             \"flat_info\":flat_df}"
   ]
  },
  {
   "cell_type": "code",
   "execution_count": null,
   "metadata": {},
   "outputs": [],
   "source": [
    "class UserApp:\n",
    "    \n",
    "    def __init__(self,name,score_dict):\n",
    "        self.name = name\n",
    "        self.user_info = score_dict[\"user_info\"].loc[bio_filters_df.index == name]\n",
    "        self.bio_score_cos_matrix = score_dict[\"bio_score_cos_matrix\"][[self.name]]\n",
    "        self.pref_matrix = score_dict[\"pref_matrix\"][score_dict[\"pref_matrix\"][\"pref_name_x\"] == self.name]\n",
    "        self.interest_score_cos_matrix = score_dict[\"interest_score_cos_matrix\"][[self.name]]\n",
    "        self.habit_score_cos_matrix = score_dict[\"habit_score_cos_matrix\"][[self.name]]\n",
    "        self.personality_score_cos_matrix = score_dict[\"personality_score_cos_matrix\"][[self.name]]\n",
    "        self.flat_info = score_dict[\"flat_info\"]\n",
    "    \n",
    "    def flat_df_match(self,flat_df,names_tuple):\n",
    "    \n",
    "        zone_filter_columns = [\"Zone 1\",\n",
    "                         \"Zone 2\",\n",
    "                         \"Zone 3\",\n",
    "                         \"Zone 4\",\n",
    "                         \"Zone 5\",\n",
    "                         \"Zone 6\",\n",
    "                         ]\n",
    "\n",
    "        price_filter_columns = [\n",
    "                         \"0-500\",\n",
    "                         \"500-599\",\n",
    "                         \"600-699\",\n",
    "                         \"700-799\",\n",
    "                         \"800-899\",\n",
    "                         \"900-999\",\n",
    "                         \"1000+\"]\n",
    "\n",
    "        temp_df = flat_df.loc[names_tuple]\n",
    "\n",
    "        zone_list = []\n",
    "        for zone in zone_filter_columns:\n",
    "            if zone not in temp_df.columns:\n",
    "                pass\n",
    "            else:\n",
    "                if temp_df.loc\\\n",
    "                [[names_tuple[0]],zone].item() == temp_df.loc[[names_tuple[1]],zone].item():\n",
    "                    zone_list.append(zone)\n",
    "                else:\n",
    "                    pass\n",
    "\n",
    "        price_list = []\n",
    "        for price in price_filter_columns:\n",
    "            if price not in temp_df.columns:\n",
    "                pass\n",
    "            else:\n",
    "                if temp_df.loc\\\n",
    "                [[names_tuple[0]],price].item() == temp_df.loc[[names_tuple[1]],price].item():\n",
    "                    price_list.append(price)\n",
    "                else:\n",
    "                    pass\n",
    "\n",
    "        result_dict = {\"zones\":zone_list,\n",
    "                      \"prices\":price_list}\n",
    "\n",
    "        return result_dict\n",
    "\n",
    "    def combine_scores(self):\n",
    "        bio_score_cos_matrix = self.bio_score_cos_matrix\n",
    "        pref_matrix = self.pref_matrix\n",
    "        interest_score_cos_matrix = self.interest_score_cos_matrix\n",
    "        habit_score_cos_matrix = self.habit_score_cos_matrix\n",
    "        personality_score_cos_matrix = self.personality_score_cos_matrix\n",
    "        \n",
    "        bio_score_cos_matrix[\"score_type\"] = \"bio\"\n",
    "        interest_score_cos_matrix[\"score_type\"] = \"interest\"\n",
    "        habit_score_cos_matrix[\"score_type\"] = \"habit\"\n",
    "        personality_score_cos_matrix[\"score_type\"] = \"personality\"\n",
    "        \n",
    "        combo_score = pd.concat([bio_score_cos_matrix,\n",
    "                                interest_score_cos_matrix,\n",
    "                                habit_score_cos_matrix,\n",
    "                                personality_score_cos_matrix],\n",
    "                               axis=0)\n",
    "        \n",
    "        combo_score = combo_score.reset_index().rename(columns={\"index\":\"match\",\n",
    "                                                                self.name:\"score\"})\n",
    "        pref_matrix_list = list(pref_matrix[\"pref_name_y\"])\n",
    "        combo_score = combo_score[combo_score[\"match\"].isin(pref_matrix_list)]\n",
    "        combo_score = combo_score[combo_score[\"match\"] != self.name].reset_index(drop=True)\n",
    "        combo_score_average = combo_score.groupby(\"match\").score.mean().reset_index()\n",
    "        combo_score_average[\"score_type\"] = \"average\"\n",
    "        combo_score = pd.concat([combo_score_average,combo_score])\n",
    "        \n",
    "        combo_score_average[\"viable\"] = 1\n",
    "        \n",
    "        return combo_score_average\n",
    "    \n",
    "    def flat_viability(self):\n",
    "        combo_df = self.combine_scores()\n",
    "        combo_df[\"zones\"] = np.nan\n",
    "        combo_df[\"prices\"] = np.nan\n",
    "        \n",
    "        flat_info = self.flat_info        \n",
    "        matches = list(flat_info.index)\n",
    "        matches.remove(self.name)\n",
    "        for match in matches:\n",
    "            flat_match_dict = self.flat_df_match(flat_info,[self.name,match])\n",
    "            zones = flat_match_dict[\"zones\"]\n",
    "            prices = flat_match_dict[\"prices\"]\n",
    "            combo_df.loc[combo_df[\"match\"]==match,\"zones\"] = {\"zones\":zones}\n",
    "            combo_df.loc[combo_df[\"match\"]==match,\"prices\"] = {\"prices\":prices}\n",
    "            \n",
    "            if len(zones) == 0 or len(prices) == 0:\n",
    "                combo_df.loc[combo_df[\"match\"]==match,\"viable\"] = 0\n",
    "        \n",
    "        combo_df = combo_df[combo_df[\"viable\"] == 1]\n",
    "        combo_df.sort_values(by=[\"score\"],ascending=False,inplace=True) \n",
    "        return combo_df"
   ]
  },
  {
   "cell_type": "code",
   "execution_count": null,
   "metadata": {},
   "outputs": [],
   "source": [
    "app1 = UserApp(name = \"Son Goku\", score_dict=score_dict)"
   ]
  },
  {
   "cell_type": "code",
   "execution_count": null,
   "metadata": {},
   "outputs": [],
   "source": [
    "test_df = app1.flat_viability()\n",
    "test_df"
   ]
  },
  {
   "cell_type": "code",
   "execution_count": null,
   "metadata": {},
   "outputs": [],
   "source": [
    "flat_list_temp = list(flat_df.index)\n",
    "flat_list_temp"
   ]
  }
 ],
 "metadata": {
  "kernelspec": {
   "display_name": "Python 3",
   "language": "python",
   "name": "python3"
  },
  "language_info": {
   "codemirror_mode": {
    "name": "ipython",
    "version": 3
   },
   "file_extension": ".py",
   "mimetype": "text/x-python",
   "name": "python",
   "nbconvert_exporter": "python",
   "pygments_lexer": "ipython3",
   "version": "3.6.5"
  }
 },
 "nbformat": 4,
 "nbformat_minor": 2
}
